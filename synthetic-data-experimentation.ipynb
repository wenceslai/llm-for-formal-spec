{
 "cells": [
  {
   "cell_type": "code",
   "execution_count": 1,
   "outputs": [],
   "source": [
    "import numpy as np"
   ],
   "metadata": {
    "collapsed": false,
    "ExecuteTime": {
     "end_time": "2023-09-20T15:45:27.233032Z",
     "start_time": "2023-09-20T15:45:27.138016Z"
    }
   }
  },
  {
   "cell_type": "code",
   "execution_count": 2,
   "outputs": [],
   "source": [
    "# generate random patters of ltl\n",
    "\n",
    "# 1. unary operators G, F, R, W, X, ~\n",
    "# 2. binary operators  &, |, →, ↔     (include true and false?)\n",
    "# 3. variables a, b, c, d....\n",
    "\n",
    "# generate formulas as random nodes in a tree\n",
    "# for each node certain prob of of node being populated"
   ],
   "metadata": {
    "collapsed": false,
    "ExecuteTime": {
     "end_time": "2023-09-20T15:45:27.240234Z",
     "start_time": "2023-09-20T15:45:27.236599Z"
    }
   }
  },
  {
   "cell_type": "markdown",
   "source": [
    "## Generating random LTL formulas as binary trees"
   ],
   "metadata": {
    "collapsed": false
   }
  },
  {
   "cell_type": "code",
   "execution_count": 203,
   "outputs": [],
   "source": [
    "binary_operators = ['&', '|', '→', '↔']\n",
    "binary_dist = np.array([0.35, 0.35, 0.2, 0.10])\n",
    "\n",
    "unary_operators = ['G', 'F', 'R', '~']\n",
    "unary_dist = np.array([0.2, 0.2, 0.2, 0.4])\n",
    "\n",
    "variables = ['a', 'b', 'c', 'd']\n",
    "variable_dist = np.array([0.4, 0.35, 0.15, 0.10]) # logarithmic probabilities\n",
    "\n",
    "symbols = binary_operators + unary_operators + variables\n",
    "symbol_dist = np.concatenate([binary_dist * len(binary_dist)/len(symbols), #P(symbol) = P(class) * P(symbol | class)\n",
    "                              unary_dist * len(unary_dist)/len(symbols),\n",
    "                              variable_dist * len(variable_dist)/len(symbols)]) # weight for None symbol\n",
    "\n",
    "symbol_dist /= np.sum(symbol_dist) # making the dist sum up to 1\n",
    "\n",
    "class LTLfomula:\n",
    "    def __init__(self, symbol, depth, max_depth):\n",
    "        self.symbol = symbol\n",
    "        self.depth = depth\n",
    "        self.max_depth = max_depth\n",
    "\n",
    "        self.left = None\n",
    "        self.right = None\n",
    "\n",
    "        # left child\n",
    "        if self.symbol not in unary_operators: # unary symbols can have only one child\n",
    "            self.left = self.sample_child()\n",
    "        # right child\n",
    "        self.right = self.sample_child()\n",
    "\n",
    "\n",
    "    def sample_child(self):\n",
    "        if self.depth == self.max_depth or self.symbol in variables:\n",
    "            return None\n",
    "        elif self.depth == self.max_depth - 1: # the next layer is the last one -> generate variable\n",
    "            return LTLfomula(sample_variable(), self.depth + 1, self.max_depth)\n",
    "        else:\n",
    "            return LTLfomula(sample_symbol(), self.depth + 1, self.max_depth)\n",
    "\n",
    "def sample_variable():\n",
    "    return np.random.choice(variables, size=1, p=variable_dist)[0]\n",
    "\n",
    "def sample_symbol():\n",
    "    return np.random.choice(symbols, size=1, p=symbol_dist)[0]\n",
    "\n",
    "def generate_random_LTL(max_depth):\n",
    "    while True:\n",
    "        root_symbol = sample_symbol()\n",
    "        if root_symbol in variables: # filter out only propositions\n",
    "            continue\n",
    "        tree = LTLfomula(root_symbol, depth=1, max_depth=max_depth)\n",
    "        break\n",
    "\n",
    "    return tree"
   ],
   "metadata": {
    "collapsed": false,
    "ExecuteTime": {
     "end_time": "2023-09-20T19:07:19.892401Z",
     "start_time": "2023-09-20T19:07:19.889102Z"
    }
   }
  },
  {
   "cell_type": "markdown",
   "source": [
    "## Parsing tree representation into formula"
   ],
   "metadata": {
    "collapsed": false
   }
  },
  {
   "cell_type": "code",
   "execution_count": 204,
   "outputs": [],
   "source": [
    "def insert_at(s, insert, cursor):\n",
    "    return s[:cursor] + insert + s[cursor:]\n",
    "\n",
    "def print_formula_tree(tree):\n",
    "    def recursive_print_node(node, output=\"\", cursor=0): # modified in order traversal\n",
    "        if node is not None and node.symbol is not None:\n",
    "            output, cursor = recursive_print_node(node.left, output, cursor)\n",
    "\n",
    "            output = insert_at(output, node.symbol, cursor)\n",
    "            cursor += 1\n",
    "\n",
    "            if node.symbol in unary_operators:\n",
    "                output = insert_at(output, \"()\", cursor)\n",
    "                cursor += 1\n",
    "\n",
    "            output, cursor = recursive_print_node(node.right, output, cursor)\n",
    "\n",
    "            #if node.symbol in binary_operators:\n",
    "            #    output = insert_at(output, \"(\", cursor)\n",
    "             #   output = insert_at(output, \")\", cursor)\n",
    "            #    cursor += 1\n",
    "\n",
    "        return output, cursor\n",
    "\n",
    "    output, _ = recursive_print_node(tree)\n",
    "    return output"
   ],
   "metadata": {
    "collapsed": false,
    "ExecuteTime": {
     "end_time": "2023-09-20T19:07:21.730969Z",
     "start_time": "2023-09-20T19:07:21.725145Z"
    }
   }
  },
  {
   "cell_type": "code",
   "execution_count": 205,
   "outputs": [
    {
     "name": "stdout",
     "output_type": "stream",
     "text": [
      "((a → c) → b)\n",
      "~c\n",
      "~((a & b))\n",
      "(Gb & (a | a))\n",
      "~d\n",
      "(~a & b)\n",
      "~c\n",
      "~a\n",
      "(~a ↔ (a → a))\n",
      "((b | b) & (c R b))\n"
     ]
    }
   ],
   "source": [
    "for i in range(50):\n",
    "    tree = generate_random_LTL(3)\n",
    "    print(print_formula_tree(tree))"
   ],
   "metadata": {
    "collapsed": false,
    "ExecuteTime": {
     "end_time": "2023-09-20T19:07:22.593292Z",
     "start_time": "2023-09-20T19:07:22.585854Z"
    }
   }
  },
  {
   "cell_type": "markdown",
   "source": [
    "Translating formula into \"pseudo-natural\" language"
   ],
   "metadata": {
    "collapsed": false,
    "ExecuteTime": {
     "end_time": "2023-09-20T18:48:02.415179Z",
     "start_time": "2023-09-20T18:48:02.406715Z"
    }
   },
   "outputs": [],
   "execution_count": 185
  },
  {
   "cell_type": "code",
   "execution_count": 220,
   "outputs": [],
   "source": [
    "binary_operators = ['&', '|', '→', '↔']\n",
    "binary_dist = np.array([0.35, 0.35, 0.2, 0.10])\n",
    "\n",
    "unary_operators = ['G', 'F', 'R', '~']\n",
    "unary_dist = np.array([0.2, 0.2, 0.2, 0.4])\n",
    "\n",
    "variables = ['a', 'b', 'c', 'd', 'e', 'f']\n",
    "variable_dist = np.array([0.3, 0.21, 0.15, 0.13, 0.11, 0.10]) # logarithmic probabilities\n",
    "\n",
    "symbol2words = {\n",
    "    '&': \"and\",\n",
    "    '|': \"or\",\n",
    "    '→': \"implies\",\n",
    "    '↔': \"iff and only if\",\n",
    "    'G': \"it always holds that\",\n",
    "    'F': \"finally it holds that\", #?????\n",
    "    'R': \"release\", #???\n",
    "    '~': \"it's not true that\"\n",
    "}"
   ],
   "metadata": {
    "collapsed": false,
    "ExecuteTime": {
     "end_time": "2023-09-20T19:20:55.273769Z",
     "start_time": "2023-09-20T19:20:55.265049Z"
    }
   }
  },
  {
   "cell_type": "code",
   "execution_count": 228,
   "outputs": [
    {
     "name": "stdout",
     "output_type": "stream",
     "text": [
      "(a & d) \t\t\t\t\t a holds and d holds\n",
      "(b & b) \t\t\t\t\t b holds and b holds\n",
      "(b | b) \t\t\t\t\t b holds or b holds\n",
      "~b \t\t\t\t\t it's not true that b holds\n",
      "(b & c) \t\t\t\t\t b holds and c holds\n",
      "(d ↔ b) \t\t\t\t\t d holds iff and only if b holds\n",
      "(d & b) \t\t\t\t\t d holds and b holds\n",
      "~d \t\t\t\t\t it's not true that d holds\n",
      "(b ↔ d) \t\t\t\t\t b holds iff and only if d holds\n",
      "(c & a) \t\t\t\t\t c holds and a holds\n"
     ]
    }
   ],
   "source": [
    "for i in range(10):\n",
    "    tree = generate_random_LTL(3)\n",
    "    formula = print_formula_tree(tree)\n",
    "    output = \"\"\n",
    "    for symbol in formula:\n",
    "        if symbol in symbol2words.keys():\n",
    "            output += symbol2words[symbol] + \" \"\n",
    "\n",
    "        if symbol in variables:\n",
    "            output += symbol + \" holds \"\n",
    "\n",
    "    print(output)"
   ],
   "metadata": {
    "collapsed": false,
    "ExecuteTime": {
     "end_time": "2023-09-20T19:24:27.136511Z",
     "start_time": "2023-09-20T19:24:27.133482Z"
    }
   }
  },
  {
   "cell_type": "code",
   "execution_count": 241,
   "outputs": [
    {
     "name": "stdout",
     "output_type": "stream",
     "text": [
      "       LTL                         pseudo-langauge\n",
      "0  (c & a)                     c holds and a holds\n",
      "1  (d → b)                 if d holds then b holds\n",
      "2  (a U b)                   a holds until b holds\n",
      "3  (b | a)                      b holds or a holds\n",
      "4  (a & b)                     a holds and b holds\n",
      "5       Fa  eventually it is the case that a holds\n",
      "6       Ga   globally, it is the case that a holds\n",
      "7  (c U d)                   c holds until d holds\n",
      "8  (b | a)                      b holds or a holds\n",
      "9  (a → a)                 if a holds then a holds\n",
      "                                               LTL  \\\n",
      "0                                    (b & (c → a))   \n",
      "1  (((Fa & (b | c)) | (a & b)) | (~((a | b)) | c))   \n",
      "2             ((b & (Fc | Ga)) → (~((b → b)) | b))   \n",
      "3                                     (Fa U G(Fc))   \n",
      "4                        ((a | a) ↔ ((a & b) → d))   \n",
      "5                          (b U ((a ↔ a) & ~(Gb)))   \n",
      "6        (~(F((a & b))) | ((Gb | a) | F((b R a))))   \n",
      "7                                (F((~b & a)) R b)   \n",
      "8                                         F(F(~b))   \n",
      "9                    ~(((Fb | b) & ((c → b) → b)))   \n",
      "\n",
      "                                     pseudo-langauge  \n",
      "0              b holds and \"if c holds then a holds\"  \n",
      "1  \"\"\"eventually it is the case that a holds\" and...  \n",
      "2  if \"b holds and \"\"eventually it is the case th...  \n",
      "3  \"eventually it is the case that a holds\" until...  \n",
      "4  \"a holds or a holds\" iff and only if \"if \"a ho...  \n",
      "5  b holds until \"\"a holds iff and only if a hold...  \n",
      "6  \"it's not true that \"eventually it is the case...  \n",
      "7  \"eventually it is the case that \"\"it's not tru...  \n",
      "8  eventually it is the case that \"eventually it ...  \n",
      "9  it's not true that \"\"\"eventually it is the cas...  \n"
     ]
    }
   ],
   "source": [],
   "metadata": {
    "collapsed": false,
    "ExecuteTime": {
     "end_time": "2023-09-20T19:32:15.301248Z",
     "start_time": "2023-09-20T19:32:15.296418Z"
    }
   }
  }
 ],
 "metadata": {
  "kernelspec": {
   "display_name": "Python 3",
   "language": "python",
   "name": "python3"
  },
  "language_info": {
   "codemirror_mode": {
    "name": "ipython",
    "version": 2
   },
   "file_extension": ".py",
   "mimetype": "text/x-python",
   "name": "python",
   "nbconvert_exporter": "python",
   "pygments_lexer": "ipython2",
   "version": "2.7.6"
  }
 },
 "nbformat": 4,
 "nbformat_minor": 0
}
