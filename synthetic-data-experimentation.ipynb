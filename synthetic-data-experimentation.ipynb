{
 "cells": [
  {
   "cell_type": "code",
   "execution_count": 1,
   "outputs": [],
   "source": [
    "import numpy as np"
   ],
   "metadata": {
    "collapsed": false,
    "ExecuteTime": {
     "end_time": "2023-09-20T15:45:27.233032Z",
     "start_time": "2023-09-20T15:45:27.138016Z"
    }
   }
  },
  {
   "cell_type": "code",
   "execution_count": 2,
   "outputs": [],
   "source": [
    "# generate random patters of ltl\n",
    "\n",
    "# 1. unary operators G, F, R, W, X, ~\n",
    "# 2. binary operators  &, |, →, ↔     (include true and false?)\n",
    "# 3. variables a, b, c, d....\n",
    "\n",
    "# generate formulas as random nodes in a tree\n",
    "# for each node certain prob of of node being populated"
   ],
   "metadata": {
    "collapsed": false,
    "ExecuteTime": {
     "end_time": "2023-09-20T15:45:27.240234Z",
     "start_time": "2023-09-20T15:45:27.236599Z"
    }
   }
  },
  {
   "cell_type": "markdown",
   "source": [
    "## Generating random LTL formulas as binary trees"
   ],
   "metadata": {
    "collapsed": false
   }
  },
  {
   "cell_type": "code",
   "execution_count": 3,
   "outputs": [],
   "source": [
    "binary_operators = ['&', '|', '→', '↔']\n",
    "binary_dist = np.array([0.35, 0.35, 0.2, 0.10])\n",
    "\n",
    "unary_operators = ['G', 'F', 'R', '~']\n",
    "unary_dist = np.array([0.2, 0.2, 0.2, 0.4])\n",
    "\n",
    "variables = ['a', 'b', 'c', 'd']\n",
    "variable_dist = np.array([0.4, 0.35, 0.15, 0.10]) # logarithmic probabilities\n",
    "\n",
    "symbols = binary_operators + unary_operators + variables\n",
    "symbol_dist = np.concatenate([binary_dist * len(binary_dist)/len(symbols), #P(symbol) = P(class) * P(symbol | class)\n",
    "                              unary_dist * len(unary_dist)/len(symbols),\n",
    "                              variable_dist * len(variable_dist)/len(symbols)]) # weight for None symbol\n",
    "\n",
    "symbol_dist /= np.sum(symbol_dist) # making the dist sum up to 1\n",
    "\n",
    "class LTLfomula:\n",
    "    def __init__(self, symbol, depth, max_depth):\n",
    "        self.symbol = symbol\n",
    "        self.depth = depth\n",
    "        self.max_depth = max_depth\n",
    "\n",
    "        self.left = None\n",
    "        self.right = None\n",
    "\n",
    "        # left child\n",
    "        if self.symbol not in unary_operators: # unary symbols can have only one child\n",
    "            self.left = self.sample_child()\n",
    "        # right child\n",
    "        self.right = self.sample_child()\n",
    "\n",
    "\n",
    "    def sample_child(self):\n",
    "        if self.depth == self.max_depth or self.symbol in variables:\n",
    "            return None\n",
    "        elif self.depth == self.max_depth - 1: # the next layer is the last one -> generate variable\n",
    "            return LTLfomula(sample_variable(), self.depth + 1, self.max_depth)\n",
    "        else:\n",
    "            return LTLfomula(sample_symbol(), self.depth + 1, self.max_depth)\n",
    "\n",
    "def sample_variable():\n",
    "    return np.random.choice(variables, size=1, p=variable_dist)[0]\n",
    "\n",
    "def sample_symbol():\n",
    "    return np.random.choice(symbols, size=1, p=symbol_dist)[0]\n",
    "\n",
    "def generate_random_LTL(max_depth):\n",
    "    while True:\n",
    "        root_symbol = sample_symbol()\n",
    "        if root_symbol in variables: # filter out only propositions\n",
    "            continue\n",
    "        tree = LTLfomula(root_symbol, depth=1, max_depth=max_depth)\n",
    "        break\n",
    "\n",
    "    return tree"
   ],
   "metadata": {
    "collapsed": false,
    "ExecuteTime": {
     "end_time": "2023-09-20T15:45:27.248871Z",
     "start_time": "2023-09-20T15:45:27.245368Z"
    }
   }
  },
  {
   "cell_type": "markdown",
   "source": [
    "## Parsing tree representation into formula"
   ],
   "metadata": {
    "collapsed": false
   }
  },
  {
   "cell_type": "code",
   "execution_count": 4,
   "outputs": [],
   "source": [
    "def insert_at(s, insert, cursor):\n",
    "    return s[:cursor] + insert + s[cursor:]\n",
    "\n",
    "def print_formula_tree(tree):\n",
    "    def recursive_print_node(node, output=\"\", cursor=0): # modified in order traversal\n",
    "        if node is not None and node.symbol is not None:\n",
    "            output, cursor = recursive_print_node(node.left, output, cursor)\n",
    "\n",
    "            output = insert_at(output, node.symbol, cursor)\n",
    "            cursor += 1\n",
    "\n",
    "            if node.symbol in unary_operators:\n",
    "                output = insert_at(output, \"()\", cursor)\n",
    "                cursor += 1\n",
    "\n",
    "            output, cursor = recursive_print_node(node.right, output, cursor)\n",
    "\n",
    "            #if node.symbol in binary_operators:\n",
    "            #    output = insert_at(output, \"(\", cursor)\n",
    "             #   output = insert_at(output, \")\", cursor)\n",
    "            #    cursor += 1\n",
    "\n",
    "        return output, cursor\n",
    "\n",
    "    output, _ = recursive_print_node(tree)\n",
    "    return output"
   ],
   "metadata": {
    "collapsed": false,
    "ExecuteTime": {
     "end_time": "2023-09-20T15:45:27.255475Z",
     "start_time": "2023-09-20T15:45:27.252350Z"
    }
   }
  },
  {
   "cell_type": "code",
   "execution_count": 5,
   "outputs": [
    {
     "name": "stdout",
     "output_type": "stream",
     "text": [
      "a→b&~(a)\n",
      "c&b→a\n",
      "G(G(d))\n",
      "b|a&a\n",
      "F(G(b))\n",
      "b&~(d)\n",
      "d|b↔R(a)\n",
      "b↔~(c)\n",
      "c|a→b\n",
      "G(b&a|a)\n",
      "R(c|G(b))\n",
      "~(b|G(a))\n",
      "G(b)\n",
      "b|a|a|a\n",
      "b↔a\n",
      "R(a|a)\n",
      "F(c↔b&b)\n",
      "G(d→a)\n",
      "~(R(c))\n",
      "~(b&~(b))\n",
      "F(R(b))\n",
      "~(c|b)\n",
      "~(F(a))\n",
      "a&a&b\n",
      "G(b)\n",
      "~(d|a)\n",
      "~(R(b))\n",
      "~(a&b)\n",
      "F(G(a))\n",
      "~(a&a)\n",
      "~(a|b)\n",
      "~(a|F(a))\n",
      "F(a|b)\n",
      "c|b|b\n",
      "~(~(a))\n",
      "F(b&a)\n",
      "~(F(b))\n",
      "a|G(b)\n",
      "a&a\n",
      "c|a↔a|a\n",
      "G(c↔b)\n",
      "R(~(a))\n",
      "c↔a&a&b\n",
      "R(~(a))\n",
      "a&c&c\n",
      "G(c)\n",
      "R(a)\n",
      "b&~(b)\n",
      "G(F(c))\n",
      "~(a)\n"
     ]
    }
   ],
   "source": [
    "for i in range(50):\n",
    "    tree = generate_random_LTL(3)\n",
    "    print(print_formula_tree(tree))"
   ],
   "metadata": {
    "collapsed": false,
    "ExecuteTime": {
     "end_time": "2023-09-20T15:45:27.281799Z",
     "start_time": "2023-09-20T15:45:27.263700Z"
    }
   }
  },
  {
   "cell_type": "markdown",
   "source": [
    "Translating formula into \"pseudo-natural\" language"
   ],
   "metadata": {
    "collapsed": false
   }
  },
  {
   "cell_type": "code",
   "execution_count": 6,
   "outputs": [],
   "source": [
    "binary_operators = ['&', '|', '→', '↔']\n",
    "binary_dist = np.array([0.35, 0.35, 0.2, 0.10])\n",
    "\n",
    "unary_operators = ['G', 'F', 'R', '~']\n",
    "unary_dist = np.array([0.2, 0.2, 0.2, 0.4])\n",
    "\n",
    "variables = ['a', 'b', 'c', 'd', 'e', 'f']\n",
    "variable_dist = np.array([0.3, 0.21, 0.15, 0.13, 0.11, 0.10]) # logarithmic probabilities\n",
    "\n",
    "symbol2words = {\n",
    "    '&': \"and\",\n",
    "    '|': \"or\",\n",
    "    '→': \"implies\",\n",
    "    '↔': \"iff and only if\",\n",
    "    'G': \"it always holds that\",\n",
    "    'F': \"finally it holds that\", #?????\n",
    "    'R': \"release\", #???\n",
    "    '~': \"it's not true that\"\n",
    "}"
   ],
   "metadata": {
    "collapsed": false,
    "ExecuteTime": {
     "end_time": "2023-09-20T15:45:27.286886Z",
     "start_time": "2023-09-20T15:45:27.281993Z"
    }
   }
  },
  {
   "cell_type": "code",
   "execution_count": 7,
   "outputs": [
    {
     "name": "stdout",
     "output_type": "stream",
     "text": [
      "b holds implies f holds or b holds \n",
      "finally it holds that a holds \n",
      "it always holds that it always holds that a holds \n",
      "release b holds \n",
      "it always holds that e holds or b holds \n",
      "it's not true that b holds and a holds iff and only if e holds \n",
      "c holds and a holds iff and only if d holds or f holds \n",
      "a holds or a holds or b holds \n",
      "release c holds \n",
      "it's not true that f holds or b holds \n"
     ]
    }
   ],
   "source": [
    "for i in range(10):\n",
    "    tree = generate_random_LTL(3)\n",
    "    formula = print_formula_tree(tree)\n",
    "    output = \"\"\n",
    "    for symbol in formula:\n",
    "        if symbol in symbol2words.keys():\n",
    "            output += symbol2words[symbol] + \" \"\n",
    "\n",
    "        if symbol in variables:\n",
    "            output += symbol + \" holds \"\n",
    "\n",
    "    print(output)"
   ],
   "metadata": {
    "collapsed": false,
    "ExecuteTime": {
     "end_time": "2023-09-20T15:45:27.296492Z",
     "start_time": "2023-09-20T15:45:27.289792Z"
    }
   }
  },
  {
   "cell_type": "code",
   "execution_count": null,
   "outputs": [],
   "source": [],
   "metadata": {
    "collapsed": false
   }
  }
 ],
 "metadata": {
  "kernelspec": {
   "display_name": "Python 3",
   "language": "python",
   "name": "python3"
  },
  "language_info": {
   "codemirror_mode": {
    "name": "ipython",
    "version": 2
   },
   "file_extension": ".py",
   "mimetype": "text/x-python",
   "name": "python",
   "nbconvert_exporter": "python",
   "pygments_lexer": "ipython2",
   "version": "2.7.6"
  }
 },
 "nbformat": 4,
 "nbformat_minor": 0
}
