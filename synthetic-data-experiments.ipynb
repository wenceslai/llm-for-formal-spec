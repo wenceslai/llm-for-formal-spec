{
 "cells": [
  {
   "cell_type": "code",
   "execution_count": 5,
   "metadata": {
    "collapsed": true,
    "ExecuteTime": {
     "end_time": "2023-09-20T19:36:56.665018Z",
     "start_time": "2023-09-20T19:36:56.656209Z"
    }
   },
   "outputs": [],
   "source": [
    "import numpy as np"
   ]
  },
  {
   "cell_type": "code",
   "execution_count": 6,
   "outputs": [],
   "source": [
    "# generate random patters of ltl\n",
    "\n",
    "# 1. unary operators G, F, ~\n",
    "# 2. binary operators  U, R, &, |, →, ↔     (include true and false?)\n",
    "# 3. variables a, b, c, d....\n",
    "\n",
    "# generate formulas as random nodes in a tree\n",
    "# for each node certain prob of of node being populated"
   ],
   "metadata": {
    "collapsed": false,
    "ExecuteTime": {
     "end_time": "2023-09-20T19:36:56.864100Z",
     "start_time": "2023-09-20T19:36:56.857926Z"
    }
   }
  },
  {
   "cell_type": "code",
   "execution_count": 7,
   "outputs": [],
   "source": [
    "## Generating random LTL formulas as binary trees"
   ],
   "metadata": {
    "collapsed": false,
    "ExecuteTime": {
     "end_time": "2023-09-20T19:36:57.061805Z",
     "start_time": "2023-09-20T19:36:57.055293Z"
    }
   }
  },
  {
   "cell_type": "code",
   "execution_count": 8,
   "outputs": [],
   "source": [
    "binary_operators = ['U', 'R', '&', '|', '→', '↔']\n",
    "binary_dist = np.array([0.05, 0.05, 0.3, 0.3, 0.2, 0.1])\n",
    "\n",
    "unary_operators = ['G', 'F', '~']\n",
    "unary_dist = np.array([0.25, 0.25, 0.5])\n",
    "\n",
    "variables = ['a', 'b', 'c', 'd']\n",
    "variable_dist = np.array([0.4, 0.35, 0.15, 0.10]) # logarithmic probabilities\n",
    "\n",
    "symbols = binary_operators + unary_operators + variables\n",
    "symbol_dist = np.concatenate([binary_dist * len(binary_dist)/len(symbols), #P(symbol) = P(class) * P(symbol | class)\n",
    "                              unary_dist * len(unary_dist)/len(symbols),\n",
    "                              variable_dist * len(variable_dist)/len(symbols)]) # weight for None symbol\n",
    "\n",
    "symbol_dist /= np.sum(symbol_dist) # making the dist sum up to 1\n",
    "\n",
    "class LTLfomula:\n",
    "    def __init__(self, symbol, depth, max_depth):\n",
    "        self.symbol = symbol\n",
    "        self.depth = depth\n",
    "        self.max_depth = max_depth\n",
    "\n",
    "        self.left = None\n",
    "        self.right = None\n",
    "\n",
    "        # left child\n",
    "        if self.symbol not in unary_operators: # unary symbols can have only one child\n",
    "            self.left = self.sample_child()\n",
    "        # right child\n",
    "        self.right = self.sample_child()\n",
    "\n",
    "\n",
    "    def sample_child(self):\n",
    "        if self.depth == self.max_depth or self.symbol in variables:\n",
    "            return None\n",
    "        elif self.depth == self.max_depth - 1: # the next layer is the last one -> generate variable\n",
    "            return LTLfomula(sample_variable(), self.depth + 1, self.max_depth)\n",
    "        else:\n",
    "            return LTLfomula(sample_symbol(), self.depth + 1, self.max_depth)\n",
    "\n",
    "def sample_variable():\n",
    "    return np.random.choice(variables, size=1, p=variable_dist)[0]\n",
    "\n",
    "def sample_symbol():\n",
    "    return np.random.choice(symbols, size=1, p=symbol_dist)[0]\n",
    "\n",
    "def generate_random_LTL(max_depth):\n",
    "    while True:\n",
    "        root_symbol = sample_symbol()\n",
    "        if root_symbol in variables: # filter out only propositions\n",
    "            continue\n",
    "        tree = LTLfomula(root_symbol, depth=1, max_depth=max_depth)\n",
    "        break\n",
    "\n",
    "    return tree"
   ],
   "metadata": {
    "collapsed": false,
    "ExecuteTime": {
     "end_time": "2023-09-20T19:36:57.267380Z",
     "start_time": "2023-09-20T19:36:57.261062Z"
    }
   }
  },
  {
   "cell_type": "markdown",
   "source": [
    "## Parsing tree representation into formula"
   ],
   "metadata": {
    "collapsed": false
   }
  },
  {
   "cell_type": "code",
   "execution_count": 9,
   "outputs": [],
   "source": [
    "def tree2ltl(node): # modified in order traversal\n",
    "    if node.symbol in variables:\n",
    "        return node.symbol\n",
    "\n",
    "    elif node.symbol in unary_operators:\n",
    "        if node.right.symbol not in variables:\n",
    "            return f\"{node.symbol}({tree2ltl(node.right)})\"\n",
    "        else:\n",
    "            return f\"{node.symbol}{tree2ltl(node.right)}\"\n",
    "\n",
    "    elif node.symbol in binary_operators:\n",
    "        return f\"({tree2ltl(node.left)} {node.symbol} {tree2ltl(node.right)})\""
   ],
   "metadata": {
    "collapsed": false,
    "ExecuteTime": {
     "end_time": "2023-09-20T19:36:57.783449Z",
     "start_time": "2023-09-20T19:36:57.773202Z"
    }
   }
  },
  {
   "cell_type": "code",
   "execution_count": 10,
   "outputs": [
    {
     "name": "stdout",
     "output_type": "stream",
     "text": [
      "(a | (c | b))\n",
      "G(Gc)\n",
      "G((a & b))\n",
      "((b → a) → Fa)\n",
      "((b & a) & (a & a))\n",
      "((b & a) & b)\n",
      "(~d ↔ Gb)\n",
      "(Fb | (a | b))\n",
      "((a & b) & a)\n",
      "(~b | (a & d))\n"
     ]
    }
   ],
   "source": [
    "for i in range(10):\n",
    "    tree = generate_random_LTL(3)\n",
    "    print(tree2ltl(tree))"
   ],
   "metadata": {
    "collapsed": false,
    "ExecuteTime": {
     "end_time": "2023-09-20T19:36:58.086195Z",
     "start_time": "2023-09-20T19:36:58.075288Z"
    }
   }
  },
  {
   "cell_type": "markdown",
   "source": [
    "## Translating formula into \"pseudo-natural\" language"
   ],
   "metadata": {
    "collapsed": false
   }
  },
  {
   "cell_type": "code",
   "execution_count": 11,
   "outputs": [],
   "source": [
    "symbol2words = {\n",
    "    '&': \"and\",\n",
    "    '|': \"or\",\n",
    "    '↔': \"iff and only if\",\n",
    "    'G': \"globally, it is the case that\",\n",
    "    'F': \"eventually it is the case that\",  #?????\n",
    "    '~': \"it's not true that\",\n",
    "    'U': \"until\"\n",
    "}\n",
    "\n",
    "\n",
    "def tree2pseudo_language(node):  # modified in order traversal\n",
    "    if node.symbol in variables:\n",
    "        return node.symbol + \" holds\"\n",
    "\n",
    "    elif node.symbol in unary_operators:\n",
    "        if node.right.symbol not in variables:\n",
    "            return symbol2words[node.symbol] + f\" \\\"{tree2pseudo_language(node.right)}\\\"\"\n",
    "        else:\n",
    "            return symbol2words[node.symbol] + f\" {tree2pseudo_language(node.right)}\"\n",
    "\n",
    "    elif node.symbol in binary_operators:\n",
    "        left_quote = \"\\\"\"\n",
    "        if node.left.symbol in variables:\n",
    "            left_quote = \"\"\n",
    "        right_quote = \"\\\"\"\n",
    "        if node.right.symbol in variables:\n",
    "            right_quote = \"\"\n",
    "\n",
    "        if node.symbol == \"→\":\n",
    "            return \"if \" + left_quote + tree2pseudo_language(\n",
    "                node.left) + left_quote + \" then \" + right_quote + tree2pseudo_language(node.right) + right_quote\n",
    "        if node.symbol == \"R\":\n",
    "            return left_quote + tree2pseudo_language(\n",
    "                node.left) + left_quote + \" holds until \" + right_quote + tree2pseudo_language(\n",
    "                node.right) + right_quote + \" or forever\"\n",
    "        else:\n",
    "            return left_quote + tree2pseudo_language(node.left) + left_quote + \" \" + symbol2words[\n",
    "                node.symbol] + \" \" + right_quote + tree2pseudo_language(node.right) + right_quote"
   ],
   "metadata": {
    "collapsed": false,
    "ExecuteTime": {
     "end_time": "2023-09-20T19:36:58.946899Z",
     "start_time": "2023-09-20T19:36:58.943152Z"
    }
   }
  },
  {
   "cell_type": "code",
   "execution_count": 14,
   "outputs": [
    {
     "name": "stdout",
     "output_type": "stream",
     "text": [
      "       LTL                         pseudo-langauge\n",
      "0  (a → c)                 if a holds then c holds\n",
      "1  (a → a)                 if a holds then a holds\n",
      "2       Ga   globally, it is the case that a holds\n",
      "3  (a & b)                     a holds and b holds\n",
      "4       Fa  eventually it is the case that a holds\n",
      "5  (a | b)                      a holds or b holds\n",
      "6  (b → a)                 if b holds then a holds\n",
      "7       ~b              it's not true that b holds\n",
      "8  (b U a)                   b holds until a holds\n",
      "9       ~d              it's not true that d holds\n",
      "                                                 LTL  \\\n",
      "0                                      ((d ↔ d) ↔ c)   \n",
      "1        (F((c & (b & b))) & (F((a → c)) R (b & a)))   \n",
      "2                                            (b → b)   \n",
      "3                          ((c | ((b R c) → b)) | b)   \n",
      "4                   (a ↔ (((b | a) & ~a) R (d | b)))   \n",
      "5              (((a & (a | c)) → a) U ~(~((a | a))))   \n",
      "6                             ((a & (~b | Gb)) | ~b)   \n",
      "7  ((b U G((b R b))) | (~((b & a)) & ((a → a) → (...   \n",
      "8     G((((d | a) & (d → a)) & ((a U a) ↔ (a ↔ a))))   \n",
      "9  ((~((b | b)) → (b | (a → b))) | (d U ~((a & c))))   \n",
      "\n",
      "                                     pseudo-langauge  \n",
      "0  \"d holds iff and only if d holds\" iff and only...  \n",
      "1  \"eventually it is the case that \"c holds and \"...  \n",
      "2                            if b holds then b holds  \n",
      "3  \"c holds or \"if \"b holds holds until c holds o...  \n",
      "4  a holds iff and only if \"\"\"b holds or a holds\"...  \n",
      "5  \"if \"a holds and \"a holds or c holds\"\" then a ...  \n",
      "6  \"a holds and \"\"it's not true that b holds\" or ...  \n",
      "7  \"b holds until \"globally, it is the case that ...  \n",
      "8  globally, it is the case that \"\"\"d holds or a ...  \n",
      "9  \"if \"it's not true that \"b holds or b holds\"\" ...  \n"
     ]
    }
   ],
   "source": [
    "import pandas as pd\n",
    "for max_depth in (2, 4 + 1):\n",
    "    ltls = []\n",
    "    language = []\n",
    "    for i in range(10):\n",
    "        tree = generate_random_LTL(max_depth)\n",
    "        ltls.append(tree2ltl(tree))\n",
    "        language.append(tree2pseudo_language(tree))\n",
    "    df = pd.DataFrame({\"LTL\": ltls, \"pseudo-langauge\": language})\n",
    "    print(df)"
   ],
   "metadata": {
    "collapsed": false,
    "ExecuteTime": {
     "end_time": "2023-09-20T19:37:37.147381Z",
     "start_time": "2023-09-20T19:37:37.135191Z"
    }
   }
  },
  {
   "cell_type": "markdown",
   "source": [
    "## GPT-3 augumentation"
   ],
   "metadata": {
    "collapsed": false
   }
  },
  {
   "cell_type": "code",
   "execution_count": 13,
   "outputs": [],
   "source": [
    "prompt = \"\"\"\n",
    "You're give a sentence which was created by translating logical formulas into words. For example ~(a -> b) would be translated as it's not true that a implies b. Make the sentences sounds more natural which at all cost retaining the original meaning of teh sentence.\n",
    "\n",
    "Sentence:\n",
    "\n",
    "\n",
    "\n",
    "\"\"\""
   ],
   "metadata": {
    "collapsed": false,
    "ExecuteTime": {
     "end_time": "2023-09-20T19:37:00.300308Z",
     "start_time": "2023-09-20T19:37:00.287746Z"
    }
   }
  },
  {
   "cell_type": "code",
   "execution_count": null,
   "outputs": [],
   "source": [],
   "metadata": {
    "collapsed": false
   }
  }
 ],
 "metadata": {
  "kernelspec": {
   "display_name": "Python 3",
   "language": "python",
   "name": "python3"
  },
  "language_info": {
   "codemirror_mode": {
    "name": "ipython",
    "version": 2
   },
   "file_extension": ".py",
   "mimetype": "text/x-python",
   "name": "python",
   "nbconvert_exporter": "python",
   "pygments_lexer": "ipython2",
   "version": "2.7.6"
  }
 },
 "nbformat": 4,
 "nbformat_minor": 0
}
