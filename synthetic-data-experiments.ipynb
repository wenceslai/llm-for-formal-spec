{
 "cells": [
  {
   "cell_type": "code",
   "execution_count": 5,
   "metadata": {
    "collapsed": true,
    "ExecuteTime": {
     "end_time": "2023-09-20T19:36:56.665018Z",
     "start_time": "2023-09-20T19:36:56.656209Z"
    }
   },
   "outputs": [],
   "source": [
    "import numpy as np"
   ]
  },
  {
   "cell_type": "code",
   "execution_count": 6,
   "outputs": [],
   "source": [
    "# generate random patters of ltl\n",
    "\n",
    "# 1. unary operators G, F, ~\n",
    "# 2. binary operators  U, R, &, |, →, ↔     (include true and false?)\n",
    "# 3. variables a, b, c, d....\n",
    "\n",
    "# generate formulas as random nodes in a tree\n",
    "# for each node certain prob of of node being populated"
   ],
   "metadata": {
    "collapsed": false,
    "ExecuteTime": {
     "end_time": "2023-09-20T19:36:56.864100Z",
     "start_time": "2023-09-20T19:36:56.857926Z"
    }
   }
  },
  {
   "cell_type": "code",
   "execution_count": 7,
   "outputs": [],
   "source": [
    "## Generating random LTL formulas as binary trees"
   ],
   "metadata": {
    "collapsed": false,
    "ExecuteTime": {
     "end_time": "2023-09-20T19:36:57.061805Z",
     "start_time": "2023-09-20T19:36:57.055293Z"
    }
   }
  },
  {
   "cell_type": "code",
   "execution_count": 8,
   "outputs": [],
   "source": [
    "binary_operators = ['U', 'R', '&', '|', '→', '↔']\n",
    "binary_dist = np.array([0.05, 0.05, 0.3, 0.3, 0.2, 0.1])\n",
    "\n",
    "unary_operators = ['G', 'F', '~']\n",
    "unary_dist = np.array([0.25, 0.25, 0.5])\n",
    "\n",
    "variables = ['a', 'b', 'c', 'd']\n",
    "variable_dist = np.array([0.4, 0.35, 0.15, 0.10]) # logarithmic probabilities\n",
    "\n",
    "symbols = binary_operators + unary_operators + variables\n",
    "symbol_dist = np.concatenate([binary_dist * len(binary_dist)/len(symbols), #P(symbol) = P(class) * P(symbol | class)\n",
    "                              unary_dist * len(unary_dist)/len(symbols),\n",
    "                              variable_dist * len(variable_dist)/len(symbols)]) # weight for None symbol\n",
    "\n",
    "symbol_dist /= np.sum(symbol_dist) # making the dist sum up to 1\n",
    "\n",
    "class LTLfomula:\n",
    "    def __init__(self, symbol, depth, max_depth):\n",
    "        self.symbol = symbol\n",
    "        self.depth = depth\n",
    "        self.max_depth = max_depth\n",
    "\n",
    "        self.left = None\n",
    "        self.right = None\n",
    "\n",
    "        # left child\n",
    "        if self.symbol not in unary_operators: # unary symbols can have only one child\n",
    "            self.left = self.sample_child()\n",
    "        # right child\n",
    "        self.right = self.sample_child()\n",
    "\n",
    "\n",
    "    def sample_child(self):\n",
    "        if self.depth == self.max_depth or self.symbol in variables:\n",
    "            return None\n",
    "        elif self.depth == self.max_depth - 1: # the next layer is the last one -> generate variable\n",
    "            return LTLfomula(sample_variable(), self.depth + 1, self.max_depth)\n",
    "        else:\n",
    "            return LTLfomula(sample_symbol(), self.depth + 1, self.max_depth)\n",
    "\n",
    "def sample_variable():\n",
    "    return np.random.choice(variables, size=1, p=variable_dist)[0]\n",
    "\n",
    "def sample_symbol():\n",
    "    return np.random.choice(symbols, size=1, p=symbol_dist)[0]\n",
    "\n",
    "def generate_random_LTL(max_depth):\n",
    "    while True:\n",
    "        root_symbol = sample_symbol()\n",
    "        if root_symbol in variables: # filter out only propositions\n",
    "            continue\n",
    "        tree = LTLfomula(root_symbol, depth=1, max_depth=max_depth)\n",
    "        break\n",
    "\n",
    "    return tree"
   ],
   "metadata": {
    "collapsed": false,
    "ExecuteTime": {
     "end_time": "2023-09-20T19:36:57.267380Z",
     "start_time": "2023-09-20T19:36:57.261062Z"
    }
   }
  },
  {
   "cell_type": "markdown",
   "source": [
    "## Parsing tree representation into formula"
   ],
   "metadata": {
    "collapsed": false
   }
  },
  {
   "cell_type": "code",
   "execution_count": 9,
   "outputs": [],
   "source": [
    "def tree2ltl(node): # modified in order traversal\n",
    "    if node.symbol in variables:\n",
    "        return node.symbol\n",
    "\n",
    "    elif node.symbol in unary_operators:\n",
    "        if node.right.symbol not in variables:\n",
    "            return f\"{node.symbol}({tree2ltl(node.right)})\"\n",
    "        else:\n",
    "            return f\"{node.symbol}{tree2ltl(node.right)}\"\n",
    "\n",
    "    elif node.symbol in binary_operators:\n",
    "        return f\"({tree2ltl(node.left)} {node.symbol} {tree2ltl(node.right)})\""
   ],
   "metadata": {
    "collapsed": false,
    "ExecuteTime": {
     "end_time": "2023-09-20T19:36:57.783449Z",
     "start_time": "2023-09-20T19:36:57.773202Z"
    }
   }
  },
  {
   "cell_type": "code",
   "execution_count": 10,
   "outputs": [
    {
     "name": "stdout",
     "output_type": "stream",
     "text": [
      "(a | (c | b))\n",
      "G(Gc)\n",
      "G((a & b))\n",
      "((b → a) → Fa)\n",
      "((b & a) & (a & a))\n",
      "((b & a) & b)\n",
      "(~d ↔ Gb)\n",
      "(Fb | (a | b))\n",
      "((a & b) & a)\n",
      "(~b | (a & d))\n"
     ]
    }
   ],
   "source": [
    "for i in range(10):\n",
    "    tree = generate_random_LTL(3)\n",
    "    print(tree2ltl(tree))"
   ],
   "metadata": {
    "collapsed": false,
    "ExecuteTime": {
     "end_time": "2023-09-20T19:36:58.086195Z",
     "start_time": "2023-09-20T19:36:58.075288Z"
    }
   }
  },
  {
   "cell_type": "markdown",
   "source": [
    "## Translating formula into \"pseudo-natural\" language"
   ],
   "metadata": {
    "collapsed": false
   }
  },
  {
   "cell_type": "code",
   "execution_count": 11,
   "outputs": [],
   "source": [
    "symbol2words = {\n",
    "    '&': \"and\",\n",
    "    '|': \"or\",\n",
    "    '↔': \"iff and only if\",\n",
    "    'G': \"globally, it is the case that\",\n",
    "    'F': \"eventually it is the case that\",  #?????\n",
    "    '~': \"it's not true that\",\n",
    "    'U': \"until\"\n",
    "}\n",
    "\n",
    "\n",
    "def tree2pseudo_language(node):  # modified in order traversal\n",
    "    if node.symbol in variables:\n",
    "        return node.symbol + \" holds\"\n",
    "\n",
    "    elif node.symbol in unary_operators:\n",
    "        if node.right.symbol not in variables:\n",
    "            return symbol2words[node.symbol] + f\" \\\"{tree2pseudo_language(node.right)}\\\"\"\n",
    "        else:\n",
    "            return symbol2words[node.symbol] + f\" {tree2pseudo_language(node.right)}\"\n",
    "\n",
    "    elif node.symbol in binary_operators:\n",
    "        left_quote = \"\\\"\"\n",
    "        if node.left.symbol in variables:\n",
    "            left_quote = \"\"\n",
    "        right_quote = \"\\\"\"\n",
    "        if node.right.symbol in variables:\n",
    "            right_quote = \"\"\n",
    "\n",
    "        if node.symbol == \"→\":\n",
    "            return \"if \" + left_quote + tree2pseudo_language(\n",
    "                node.left) + left_quote + \" then \" + right_quote + tree2pseudo_language(node.right) + right_quote\n",
    "        if node.symbol == \"R\":\n",
    "            return left_quote + tree2pseudo_language(\n",
    "                node.left) + left_quote + \" holds until \" + right_quote + tree2pseudo_language(\n",
    "                node.right) + right_quote + \" or forever\"\n",
    "        else:\n",
    "            return left_quote + tree2pseudo_language(node.left) + left_quote + \" \" + symbol2words[\n",
    "                node.symbol] + \" \" + right_quote + tree2pseudo_language(node.right) + right_quote"
   ],
   "metadata": {
    "collapsed": false,
    "ExecuteTime": {
     "end_time": "2023-09-20T19:36:58.946899Z",
     "start_time": "2023-09-20T19:36:58.943152Z"
    }
   }
  },
  {
   "cell_type": "code",
   "execution_count": 17,
   "outputs": [
    {
     "name": "stdout",
     "output_type": "stream",
     "text": [
      "max_depth:  2\n",
      "(b U b) \t\t\t b holds until b holds\n",
      "Fa \t\t\t eventually it is the case that a holds\n",
      "Fb \t\t\t eventually it is the case that b holds\n",
      "(a | b) \t\t\t a holds or b holds\n",
      "(a & b) \t\t\t a holds and b holds\n",
      "(b → d) \t\t\t if b holds then d holds\n",
      "~b \t\t\t it's not true that b holds\n",
      "(a | b) \t\t\t a holds or b holds\n",
      "(a | d) \t\t\t a holds or d holds\n",
      "~b \t\t\t it's not true that b holds\n",
      "max_depth:  3\n",
      "(a & d) \t\t\t a holds and d holds\n",
      "~((b & a)) \t\t\t it's not true that \"b holds and a holds\"\n",
      "((b | d) → (b → b)) \t\t\t if \"b holds or d holds\" then \"if b holds then b holds\"\n",
      "(Gb | a) \t\t\t \"globally, it is the case that b holds\" or a holds\n",
      "~((a & b)) \t\t\t it's not true that \"a holds and b holds\"\n",
      "G((b ↔ c)) \t\t\t globally, it is the case that \"b holds iff and only if c holds\"\n",
      "~c \t\t\t it's not true that c holds\n",
      "((a & c) & b) \t\t\t \"a holds and c holds\" and b holds\n",
      "G((a & d)) \t\t\t globally, it is the case that \"a holds and d holds\"\n",
      "(~c → (a ↔ b)) \t\t\t if \"it's not true that c holds\" then \"a holds iff and only if b holds\"\n",
      "max_depth:  4\n",
      "(((c | a) & ~d) & ~((c & a))) \t\t\t \"\"c holds or a holds\" and \"it's not true that d holds\"\" and \"it's not true that \"c holds and a holds\"\"\n",
      "Fd \t\t\t eventually it is the case that d holds\n",
      "F(~((c | a))) \t\t\t eventually it is the case that \"it's not true that \"c holds or a holds\"\"\n",
      "(~c & ((a → b) U (b & b))) \t\t\t \"it's not true that c holds\" and \"\"if a holds then b holds\" until \"b holds and b holds\"\"\n",
      "G((Gb & a)) \t\t\t globally, it is the case that \"\"globally, it is the case that b holds\" and a holds\"\n",
      "(b U ((a & d) | b)) \t\t\t b holds until \"\"a holds and d holds\" or b holds\"\n",
      "(G((b → a)) & ~(~b)) \t\t\t \"globally, it is the case that \"if b holds then a holds\"\" and \"it's not true that \"it's not true that b holds\"\"\n",
      "G((b & (c & b))) \t\t\t globally, it is the case that \"b holds and \"c holds and b holds\"\"\n",
      "(d | (a R (c → d))) \t\t\t d holds or \"a holds holds until \"if c holds then d holds\" or forever\"\n",
      "(a & ((c & a) → a)) \t\t\t a holds and \"if \"c holds and a holds\" then a holds\"\n"
     ]
    }
   ],
   "source": [
    "for max_depth in range(2, 4 + 1):\n",
    "    print(\"max_depth: \", max_depth)\n",
    "    for i in range(10):\n",
    "        tree = generate_random_LTL(max_depth)\n",
    "        print(tree2ltl(tree), \"\\t\\t\\t\", tree2pseudo_language(tree))\n",
    "\n",
    "\n"
   ],
   "metadata": {
    "collapsed": false,
    "ExecuteTime": {
     "end_time": "2023-09-20T19:40:55.545948Z",
     "start_time": "2023-09-20T19:40:55.536708Z"
    }
   }
  },
  {
   "cell_type": "markdown",
   "source": [
    "## GPT-3 augumentation"
   ],
   "metadata": {
    "collapsed": false
   }
  },
  {
   "cell_type": "code",
   "execution_count": 13,
   "outputs": [],
   "source": [
    "prompt = \"\"\"\n",
    "You're give a sentence which was created by translating logical formulas into words. For example ~(a -> b) would be translated as it's not true that a implies b. Make the sentences sounds more natural which at all cost retaining the original meaning of teh sentence.\n",
    "\n",
    "Sentence:\n",
    "\n",
    "\n",
    "\n",
    "\"\"\""
   ],
   "metadata": {
    "collapsed": false,
    "ExecuteTime": {
     "end_time": "2023-09-20T19:37:00.300308Z",
     "start_time": "2023-09-20T19:37:00.287746Z"
    }
   }
  },
  {
   "cell_type": "code",
   "execution_count": null,
   "outputs": [],
   "source": [],
   "metadata": {
    "collapsed": false
   }
  }
 ],
 "metadata": {
  "kernelspec": {
   "display_name": "Python 3",
   "language": "python",
   "name": "python3"
  },
  "language_info": {
   "codemirror_mode": {
    "name": "ipython",
    "version": 2
   },
   "file_extension": ".py",
   "mimetype": "text/x-python",
   "name": "python",
   "nbconvert_exporter": "python",
   "pygments_lexer": "ipython2",
   "version": "2.7.6"
  }
 },
 "nbformat": 4,
 "nbformat_minor": 0
}
